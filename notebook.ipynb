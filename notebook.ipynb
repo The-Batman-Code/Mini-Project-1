{
 "cells": [
  {
   "cell_type": "code",
   "execution_count": null,
   "metadata": {},
   "outputs": [],
   "source": [
    "import random\n",
    "import pywhatkit\n",
    "import openai\n",
    "responses=[]"
   ]
  },
  {
   "cell_type": "code",
   "execution_count": null,
   "metadata": {},
   "outputs": [],
   "source": [
    "# Define OpenAI API key \n",
    "openai.api_key = \"Enter OpenAI API key here\"\n",
    "\n",
    "# Set up the model and prompt\n",
    "model_engine = \"text-davinci-003\"\n",
    "prompt = \"Enter prompt-1 to be submitted to ChatGPT\"\n",
    "\n",
    "# Generate a response\n",
    "completion = openai.Completion.create(\n",
    "    engine=model_engine,\n",
    "    prompt=prompt,\n",
    "    max_tokens=1024,\n",
    "    n=1,\n",
    "    stop=None,\n",
    "    temperature=0.5,\n",
    ")\n",
    "response = completion.choices[0].text\n",
    "responses.append(response)\n",
    "print(response)"
   ]
  },
  {
   "cell_type": "code",
   "execution_count": null,
   "metadata": {},
   "outputs": [],
   "source": [
    "# Define OpenAI API key \n",
    "openai.api_key = \"Enter OpenAI API key here\"\n",
    "\n",
    "# Set up the model and prompt\n",
    "model_engine = \"text-davinci-003\"\n",
    "prompt = \"Enter prompt-2(similar to prompt-1) to be submitted to ChatGPT\"\n",
    "\n",
    "# Generate a response\n",
    "completion = openai.Completion.create(\n",
    "    engine=model_engine,\n",
    "    prompt=prompt,\n",
    "    max_tokens=1024,\n",
    "    n=1,\n",
    "    stop=None,\n",
    "    temperature=0.5,\n",
    ")\n",
    "response = completion.choices[0].text\n",
    "responses.append(response)\n",
    "print(response)"
   ]
  },
  {
   "cell_type": "code",
   "execution_count": null,
   "metadata": {},
   "outputs": [],
   "source": [
    "# Define OpenAI API key \n",
    "openai.api_key = \"Enter OpenAI API key here\"\n",
    "\n",
    "# Set up the model and prompt\n",
    "model_engine = \"text-davinci-003\"\n",
    "prompt = \"Enter prompt-3(similar to prompt-1) to be submitted to ChatGPT\"\n",
    "\n",
    "# Generate a response\n",
    "completion = openai.Completion.create(\n",
    "    engine=model_engine,\n",
    "    prompt=prompt,\n",
    "    max_tokens=1024,\n",
    "    n=1,\n",
    "    stop=None,\n",
    "    temperature=0.5,\n",
    ")\n",
    "response = completion.choices[0].text\n",
    "responses.append(response)\n",
    "print(response)"
   ]
  },
  {
   "cell_type": "code",
   "execution_count": null,
   "metadata": {},
   "outputs": [],
   "source": [
    "# Define OpenAI API key \n",
    "openai.api_key = \"Enter OpenAI API key here\"\n",
    "\n",
    "# Set up the model and prompt\n",
    "model_engine = \"text-davinci-003\"\n",
    "prompt = \"Enter prompt-4(similar to prompt-1) to be submitted to ChatGPT\"\n",
    "\n",
    "# Generate a response\n",
    "completion = openai.Completion.create(\n",
    "    engine=model_engine,\n",
    "    prompt=prompt,\n",
    "    max_tokens=1024,\n",
    "    n=1,\n",
    "    stop=None,\n",
    "    temperature=0.5,\n",
    ")\n",
    "response = completion.choices[0].text\n",
    "responses.append(response)\n",
    "print(response)"
   ]
  },
  {
   "cell_type": "code",
   "execution_count": null,
   "metadata": {},
   "outputs": [],
   "source": [
    "import pywhatkit\n",
    "def message():\n",
    "    pywhatkit.sendwhatmsg_instantly('Enter the phone number of the person you want to receive the message here', random.choice(responses),15,True,5)\n",
    "message()"
   ]
  },
  {
   "cell_type": "code",
   "execution_count": null,
   "metadata": {},
   "outputs": [],
   "source": []
  }
 ],
 "metadata": {
  "kernelspec": {
   "display_name": "Python 3",
   "language": "python",
   "name": "python3"
  },
  "language_info": {
   "codemirror_mode": {
    "name": "ipython",
    "version": 3
   },
   "file_extension": ".py",
   "mimetype": "text/x-python",
   "name": "python",
   "nbconvert_exporter": "python",
   "pygments_lexer": "ipython3",
   "version": "3.10.9 (tags/v3.10.9:1dd9be6, Dec  6 2022, 20:01:21) [MSC v.1934 64 bit (AMD64)]"
  },
  "orig_nbformat": 4,
  "vscode": {
   "interpreter": {
    "hash": "52634da84371cba311ea128a5ea7cdc41ff074b781779e754b270ff9f8153cee"
   }
  }
 },
 "nbformat": 4,
 "nbformat_minor": 2
}
